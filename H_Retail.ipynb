{
 "cells": [
  {
   "cell_type": "markdown",
   "id": "f0b71dd0",
   "metadata": {},
   "source": [
    "# Import Library"
   ]
  },
  {
   "cell_type": "code",
   "execution_count": null,
   "id": "98b1b6aa",
   "metadata": {},
   "outputs": [],
   "source": [
    "# importing libraries\n",
    "import pandas as pd # data science essentials\n",
    "import matplotlib.pyplot as plt # data visualization\n",
    "import seaborn as sns # enhanced data visualization\n",
    "import statsmodels.formula.api as smf # linear regression (statsmodels)\n",
    "import numpy as np #data science essentials\n",
    "from sklearn.model_selection import train_test_split # train/test split\n",
    "from sklearn.linear_model import LogisticRegression # logistic regression (scikit-learn)\n",
    "from sklearn.metrics import confusion_matrix, classification_report #import confusion matrix and classfication report"
   ]
  },
  {
   "cell_type": "markdown",
   "id": "3806fd36",
   "metadata": {},
   "source": [
    "# Read File"
   ]
  },
  {
   "cell_type": "code",
   "execution_count": 27,
   "id": "547712e9",
   "metadata": {},
   "outputs": [
    {
     "data": {
      "text/html": [
       "<div>\n",
       "<style scoped>\n",
       "    .dataframe tbody tr th:only-of-type {\n",
       "        vertical-align: middle;\n",
       "    }\n",
       "\n",
       "    .dataframe tbody tr th {\n",
       "        vertical-align: top;\n",
       "    }\n",
       "\n",
       "    .dataframe thead th {\n",
       "        text-align: right;\n",
       "    }\n",
       "</style>\n",
       "<table border=\"1\" class=\"dataframe\">\n",
       "  <thead>\n",
       "    <tr style=\"text-align: right;\">\n",
       "      <th></th>\n",
       "      <th>customer_id</th>\n",
       "      <th>Occupation</th>\n",
       "      <th>Employment Type</th>\n",
       "      <th>Type of Client</th>\n",
       "      <th>Total quantity</th>\n",
       "      <th>Average Unit Price</th>\n",
       "      <th>Total Revenue per Customer</th>\n",
       "      <th>&gt; 100  units</th>\n",
       "    </tr>\n",
       "  </thead>\n",
       "  <tbody>\n",
       "    <tr>\n",
       "      <th>0</th>\n",
       "      <td>528056</td>\n",
       "      <td>Exec-managerial</td>\n",
       "      <td>Private</td>\n",
       "      <td>NaN</td>\n",
       "      <td>34</td>\n",
       "      <td>2.746286</td>\n",
       "      <td>93.373714</td>\n",
       "      <td>No</td>\n",
       "    </tr>\n",
       "    <tr>\n",
       "      <th>1</th>\n",
       "      <td>1296893</td>\n",
       "      <td>Transport-moving</td>\n",
       "      <td>Private</td>\n",
       "      <td>NaN</td>\n",
       "      <td>109</td>\n",
       "      <td>2.083486</td>\n",
       "      <td>227.100000</td>\n",
       "      <td>YES</td>\n",
       "    </tr>\n",
       "    <tr>\n",
       "      <th>2</th>\n",
       "      <td>4223924</td>\n",
       "      <td>Sales</td>\n",
       "      <td>Private</td>\n",
       "      <td>Wholesaler</td>\n",
       "      <td>40</td>\n",
       "      <td>3.073000</td>\n",
       "      <td>122.920000</td>\n",
       "      <td>No</td>\n",
       "    </tr>\n",
       "    <tr>\n",
       "      <th>3</th>\n",
       "      <td>4523882</td>\n",
       "      <td>Transport-moving</td>\n",
       "      <td>Self-emp-not-inc</td>\n",
       "      <td>NaN</td>\n",
       "      <td>15</td>\n",
       "      <td>4.620000</td>\n",
       "      <td>69.300000</td>\n",
       "      <td>No</td>\n",
       "    </tr>\n",
       "    <tr>\n",
       "      <th>4</th>\n",
       "      <td>5060461</td>\n",
       "      <td>Adm-clerical</td>\n",
       "      <td>Private</td>\n",
       "      <td>NaN</td>\n",
       "      <td>37</td>\n",
       "      <td>2.154324</td>\n",
       "      <td>79.710000</td>\n",
       "      <td>No</td>\n",
       "    </tr>\n",
       "  </tbody>\n",
       "</table>\n",
       "</div>"
      ],
      "text/plain": [
       "   customer_id        Occupation   Employment Type Type of Client  Total quantity   Average Unit Price  Total Revenue per Customer > 100  units\n",
       "0       528056   Exec-managerial           Private            NaN               34            2.746286                   93.373714           No\n",
       "1      1296893  Transport-moving           Private            NaN              109            2.083486                  227.100000          YES\n",
       "2      4223924             Sales           Private     Wholesaler               40            3.073000                  122.920000           No\n",
       "3      4523882  Transport-moving  Self-emp-not-inc            NaN               15            4.620000                   69.300000           No\n",
       "4      5060461      Adm-clerical           Private            NaN               37            2.154324                   79.710000           No"
      ]
     },
     "execution_count": 27,
     "metadata": {},
     "output_type": "execute_result"
    }
   ],
   "source": [
    "# setting pandas print options\n",
    "pd.set_option('display.max_rows', 500)\n",
    "pd.set_option('display.max_columns', 500)\n",
    "pd.set_option('display.width', 1000)\n",
    "\n",
    "\n",
    "# read csv file\n",
    "file = '/Users/madhuri/Desktop/Query Team 2 test.csv'\n",
    "\n",
    "retail = pd.read_csv(file)\n",
    "\n",
    "retail.head(5)\n"
   ]
  },
  {
   "cell_type": "markdown",
   "id": "c624c077",
   "metadata": {},
   "source": [
    "# Explore the Dataset"
   ]
  },
  {
   "cell_type": "code",
   "execution_count": 28,
   "id": "f173962e",
   "metadata": {},
   "outputs": [
    {
     "name": "stdout",
     "output_type": "stream",
     "text": [
      "\n",
      "Size of Original Dataset\n",
      "------------------------\n",
      "Observations: 4058\n",
      "Features:     8\n",
      "\n",
      "<class 'pandas.core.frame.DataFrame'>\n",
      "RangeIndex: 4058 entries, 0 to 4057\n",
      "Data columns (total 8 columns):\n",
      " #   Column                      Non-Null Count  Dtype  \n",
      "---  ------                      --------------  -----  \n",
      " 0   customer_id                 4058 non-null   int64  \n",
      " 1   Occupation                  3854 non-null   object \n",
      " 2   Employment Type             4058 non-null   object \n",
      " 3   Type of Client              974 non-null    object \n",
      " 4   Total quantity              4058 non-null   int64  \n",
      " 5   Average Unit Price          4058 non-null   float64\n",
      " 6   Total Revenue per Customer  4058 non-null   float64\n",
      " 7   > 100  units                4058 non-null   object \n",
      "dtypes: float64(2), int64(2), object(4)\n",
      "memory usage: 253.8+ KB\n"
     ]
    }
   ],
   "source": [
    "# formatting and printing the dimensions of the dataset\n",
    "print(f\"\"\"\n",
    "Size of Original Dataset\n",
    "------------------------\n",
    "Observations: {retail.shape[0]}\n",
    "Features:     {retail.shape[1]}\n",
    "\"\"\")\n",
    "\n",
    "retail.info(verbose=True)"
   ]
  },
  {
   "cell_type": "markdown",
   "id": "42b798a6",
   "metadata": {},
   "source": [
    "# Split the Dataframe"
   ]
  },
  {
   "cell_type": "code",
   "execution_count": 41,
   "id": "ecd1ba39",
   "metadata": {},
   "outputs": [
    {
     "name": "stdout",
     "output_type": "stream",
     "text": [
      "<class 'pandas.core.frame.DataFrame'>\n",
      "Int64Index: 974 entries, 2 to 4057\n",
      "Columns: 8 entries, customer_id to > 100  units\n",
      "dtypes: float64(2), int64(2), object(4)\n",
      "memory usage: 68.5+ KB\n"
     ]
    }
   ],
   "source": [
    "# Create the dataframe without null values based on Type of Client\n",
    "with_type = retail[retail[\"Type of Client\"].notnull()]\n",
    "\n",
    "with_type.info(verbose=False)"
   ]
  },
  {
   "cell_type": "code",
   "execution_count": 36,
   "id": "4608300d",
   "metadata": {},
   "outputs": [
    {
     "name": "stdout",
     "output_type": "stream",
     "text": [
      "<class 'pandas.core.frame.DataFrame'>\n",
      "Int64Index: 3084 entries, 0 to 4056\n",
      "Columns: 8 entries, customer_id to > 100  units\n",
      "dtypes: float64(2), int64(2), object(4)\n",
      "memory usage: 216.8+ KB\n"
     ]
    }
   ],
   "source": [
    "# Create the dataframe with null values based on Type of Client\n",
    "without_type = retail[retail[\"Type of Client\"].isna()]\n",
    "\n",
    "without_type.info(verbose=False)"
   ]
  },
  {
   "cell_type": "markdown",
   "id": "d382ba6c",
   "metadata": {},
   "source": [
    "# Get Dummy Variables"
   ]
  },
  {
   "cell_type": "code",
   "execution_count": 37,
   "id": "689df8a2",
   "metadata": {},
   "outputs": [
    {
     "data": {
      "text/html": [
       "<div>\n",
       "<style scoped>\n",
       "    .dataframe tbody tr th:only-of-type {\n",
       "        vertical-align: middle;\n",
       "    }\n",
       "\n",
       "    .dataframe tbody tr th {\n",
       "        vertical-align: top;\n",
       "    }\n",
       "\n",
       "    .dataframe thead th {\n",
       "        text-align: right;\n",
       "    }\n",
       "</style>\n",
       "<table border=\"1\" class=\"dataframe\">\n",
       "  <thead>\n",
       "    <tr style=\"text-align: right;\">\n",
       "      <th></th>\n",
       "      <th>customer_id</th>\n",
       "      <th>Total quantity</th>\n",
       "      <th>Average Unit Price</th>\n",
       "      <th>Total Revenue per Customer</th>\n",
       "      <th>Occupation_Adm-clerical</th>\n",
       "      <th>Occupation_Craft-repair</th>\n",
       "      <th>Occupation_Exec-managerial</th>\n",
       "      <th>Occupation_Farming-fishing</th>\n",
       "      <th>Occupation_Handlers-cleaners</th>\n",
       "      <th>Occupation_Machine-op-inspct</th>\n",
       "      <th>Occupation_Other-service</th>\n",
       "      <th>Occupation_Priv-house-serv</th>\n",
       "      <th>Occupation_Prof-specialty</th>\n",
       "      <th>Occupation_Protective-serv</th>\n",
       "      <th>Occupation_Sales</th>\n",
       "      <th>Occupation_Tech-support</th>\n",
       "      <th>Occupation_Transport-moving</th>\n",
       "      <th>Employment Type_Federal-gov</th>\n",
       "      <th>Employment Type_Local-gov</th>\n",
       "      <th>Employment Type_Nan</th>\n",
       "      <th>Employment Type_Private</th>\n",
       "      <th>Employment Type_Self-emp-inc</th>\n",
       "      <th>Employment Type_Self-emp-not-inc</th>\n",
       "      <th>Employment Type_State-gov</th>\n",
       "      <th>Type of Client_Personal</th>\n",
       "      <th>&gt; 100  units_No</th>\n",
       "      <th>&gt; 100  units_YES</th>\n",
       "    </tr>\n",
       "  </thead>\n",
       "  <tbody>\n",
       "    <tr>\n",
       "      <th>2</th>\n",
       "      <td>4223924</td>\n",
       "      <td>40</td>\n",
       "      <td>3.073000</td>\n",
       "      <td>122.92</td>\n",
       "      <td>0</td>\n",
       "      <td>0</td>\n",
       "      <td>0</td>\n",
       "      <td>0</td>\n",
       "      <td>0</td>\n",
       "      <td>0</td>\n",
       "      <td>0</td>\n",
       "      <td>0</td>\n",
       "      <td>0</td>\n",
       "      <td>0</td>\n",
       "      <td>1</td>\n",
       "      <td>0</td>\n",
       "      <td>0</td>\n",
       "      <td>0</td>\n",
       "      <td>0</td>\n",
       "      <td>0</td>\n",
       "      <td>1</td>\n",
       "      <td>0</td>\n",
       "      <td>0</td>\n",
       "      <td>0</td>\n",
       "      <td>0</td>\n",
       "      <td>1</td>\n",
       "      <td>0</td>\n",
       "    </tr>\n",
       "    <tr>\n",
       "      <th>12</th>\n",
       "      <td>14606403</td>\n",
       "      <td>59</td>\n",
       "      <td>1.153051</td>\n",
       "      <td>68.03</td>\n",
       "      <td>0</td>\n",
       "      <td>0</td>\n",
       "      <td>0</td>\n",
       "      <td>0</td>\n",
       "      <td>0</td>\n",
       "      <td>1</td>\n",
       "      <td>0</td>\n",
       "      <td>0</td>\n",
       "      <td>0</td>\n",
       "      <td>0</td>\n",
       "      <td>0</td>\n",
       "      <td>0</td>\n",
       "      <td>0</td>\n",
       "      <td>0</td>\n",
       "      <td>0</td>\n",
       "      <td>0</td>\n",
       "      <td>1</td>\n",
       "      <td>0</td>\n",
       "      <td>0</td>\n",
       "      <td>0</td>\n",
       "      <td>0</td>\n",
       "      <td>1</td>\n",
       "      <td>0</td>\n",
       "    </tr>\n",
       "    <tr>\n",
       "      <th>19</th>\n",
       "      <td>22469235</td>\n",
       "      <td>177</td>\n",
       "      <td>2.463898</td>\n",
       "      <td>436.11</td>\n",
       "      <td>0</td>\n",
       "      <td>0</td>\n",
       "      <td>1</td>\n",
       "      <td>0</td>\n",
       "      <td>0</td>\n",
       "      <td>0</td>\n",
       "      <td>0</td>\n",
       "      <td>0</td>\n",
       "      <td>0</td>\n",
       "      <td>0</td>\n",
       "      <td>0</td>\n",
       "      <td>0</td>\n",
       "      <td>0</td>\n",
       "      <td>1</td>\n",
       "      <td>0</td>\n",
       "      <td>0</td>\n",
       "      <td>0</td>\n",
       "      <td>0</td>\n",
       "      <td>0</td>\n",
       "      <td>0</td>\n",
       "      <td>0</td>\n",
       "      <td>0</td>\n",
       "      <td>1</td>\n",
       "    </tr>\n",
       "    <tr>\n",
       "      <th>22</th>\n",
       "      <td>24804864</td>\n",
       "      <td>30</td>\n",
       "      <td>2.158000</td>\n",
       "      <td>64.74</td>\n",
       "      <td>0</td>\n",
       "      <td>0</td>\n",
       "      <td>0</td>\n",
       "      <td>0</td>\n",
       "      <td>1</td>\n",
       "      <td>0</td>\n",
       "      <td>0</td>\n",
       "      <td>0</td>\n",
       "      <td>0</td>\n",
       "      <td>0</td>\n",
       "      <td>0</td>\n",
       "      <td>0</td>\n",
       "      <td>0</td>\n",
       "      <td>0</td>\n",
       "      <td>0</td>\n",
       "      <td>0</td>\n",
       "      <td>1</td>\n",
       "      <td>0</td>\n",
       "      <td>0</td>\n",
       "      <td>0</td>\n",
       "      <td>0</td>\n",
       "      <td>1</td>\n",
       "      <td>0</td>\n",
       "    </tr>\n",
       "    <tr>\n",
       "      <th>31</th>\n",
       "      <td>37876710</td>\n",
       "      <td>160</td>\n",
       "      <td>1.456625</td>\n",
       "      <td>233.06</td>\n",
       "      <td>0</td>\n",
       "      <td>0</td>\n",
       "      <td>0</td>\n",
       "      <td>0</td>\n",
       "      <td>0</td>\n",
       "      <td>0</td>\n",
       "      <td>0</td>\n",
       "      <td>0</td>\n",
       "      <td>0</td>\n",
       "      <td>0</td>\n",
       "      <td>0</td>\n",
       "      <td>1</td>\n",
       "      <td>0</td>\n",
       "      <td>0</td>\n",
       "      <td>0</td>\n",
       "      <td>0</td>\n",
       "      <td>1</td>\n",
       "      <td>0</td>\n",
       "      <td>0</td>\n",
       "      <td>0</td>\n",
       "      <td>0</td>\n",
       "      <td>0</td>\n",
       "      <td>1</td>\n",
       "    </tr>\n",
       "  </tbody>\n",
       "</table>\n",
       "</div>"
      ],
      "text/plain": [
       "    customer_id  Total quantity   Average Unit Price  Total Revenue per Customer  Occupation_Adm-clerical  Occupation_Craft-repair  Occupation_Exec-managerial  Occupation_Farming-fishing  Occupation_Handlers-cleaners  Occupation_Machine-op-inspct  Occupation_Other-service  Occupation_Priv-house-serv  Occupation_Prof-specialty  Occupation_Protective-serv  Occupation_Sales  Occupation_Tech-support  Occupation_Transport-moving  Employment Type_Federal-gov  Employment Type_Local-gov  Employment Type_Nan  Employment Type_Private  Employment Type_Self-emp-inc  Employment Type_Self-emp-not-inc  Employment Type_State-gov  Type of Client_Personal  > 100  units_No  > 100  units_YES\n",
       "2       4223924               40            3.073000                      122.92                        0                        0                           0                           0                             0                             0                         0                           0                          0                           0                 1                        0                            0                            0                          0                    0                        1                             0                                 0                          0                        0                1                 0\n",
       "12     14606403               59            1.153051                       68.03                        0                        0                           0                           0                             0                             1                         0                           0                          0                           0                 0                        0                            0                            0                          0                    0                        1                             0                                 0                          0                        0                1                 0\n",
       "19     22469235              177            2.463898                      436.11                        0                        0                           1                           0                             0                             0                         0                           0                          0                           0                 0                        0                            0                            1                          0                    0                        0                             0                                 0                          0                        0                0                 1\n",
       "22     24804864               30            2.158000                       64.74                        0                        0                           0                           0                             1                             0                         0                           0                          0                           0                 0                        0                            0                            0                          0                    0                        1                             0                                 0                          0                        0                1                 0\n",
       "31     37876710              160            1.456625                      233.06                        0                        0                           0                           0                             0                             0                         0                           0                          0                           0                 0                        1                            0                            0                          0                    0                        1                             0                                 0                          0                        0                0                 1"
      ]
     },
     "execution_count": 37,
     "metadata": {},
     "output_type": "execute_result"
    }
   ],
   "source": [
    "# get dummies variables \n",
    "retail_dummies = pd.get_dummies(with_type)\n",
    " \n",
    "retail_dummies =retail_dummies.drop('Type of Client_Wholesaler', axis=1) # 0 - wholesaler | 1 - personal\n",
    "\n",
    "# read the dataset\n",
    "retail_dummies.head(n=5)"
   ]
  },
  {
   "cell_type": "markdown",
   "id": "130cb312",
   "metadata": {},
   "source": [
    "# Split x and y dataset"
   ]
  },
  {
   "cell_type": "code",
   "execution_count": 42,
   "id": "25958215",
   "metadata": {},
   "outputs": [
    {
     "name": "stdout",
     "output_type": "stream",
     "text": [
      "\n",
      "Training Data\n",
      "-------------\n",
      "X-side: (730, 26)\n",
      "y-side: (730,)\n",
      "\n",
      "\n",
      "Testing Data\n",
      "------------\n",
      "X-side: (244, 26)\n",
      "y-side: (244,)\n",
      "\n"
     ]
    }
   ],
   "source": [
    "# list x variables\n",
    "x_data   = retail_dummies.drop(['Type of Client_Personal'],\n",
    "                               axis = 1)\n",
    "\n",
    "# list y target\n",
    "y_target = retail_dummies.loc[ : , 'Type of Client_Personal']\n",
    "\n",
    "\n",
    "# creating the testing and training dataset\n",
    "x_train, x_test, y_train, y_test = train_test_split(\n",
    "    x_data,\n",
    "    y_target,\n",
    "    test_size = 0.25, \n",
    "    random_state = 219)\n",
    "\n",
    "# checking the shapes of the datasets\n",
    "print(f\"\"\"\n",
    "Training Data\n",
    "-------------\n",
    "X-side: {x_train.shape}\n",
    "y-side: {y_train.shape}\n",
    "\n",
    "\n",
    "Testing Data\n",
    "------------\n",
    "X-side: {x_test.shape}\n",
    "y-side: {y_test.shape}\n",
    "\"\"\")"
   ]
  },
  {
   "cell_type": "markdown",
   "id": "58b752f5",
   "metadata": {},
   "source": [
    "# Logistic Modeling, Confustion Matrix, and Classfication Report"
   ]
  },
  {
   "cell_type": "code",
   "execution_count": null,
   "id": "86f3894e",
   "metadata": {},
   "outputs": [],
   "source": [
    "# instantiating the model\n",
    "logreg = LogisticRegression()\n",
    "\n",
    "# fitting the model\n",
    "logreg.fit(x_train, y_train)\n",
    "\n",
    "# predicting the y variable\n",
    "y_pred = logreg.predict(x_train)\n",
    "\n",
    "# create confusion matrix and classification report for train data\n",
    "print(confusion_matrix(y_train, y_pred))\n",
    "print(classification_report(y_train, y_pred))"
   ]
  },
  {
   "cell_type": "code",
   "execution_count": 44,
   "id": "95f92c1d",
   "metadata": {},
   "outputs": [
    {
     "name": "stdout",
     "output_type": "stream",
     "text": [
      "[[197   0]\n",
      " [ 47   0]]\n",
      "              precision    recall  f1-score   support\n",
      "\n",
      "           0       0.81      1.00      0.89       197\n",
      "           1       0.00      0.00      0.00        47\n",
      "\n",
      "    accuracy                           0.81       244\n",
      "   macro avg       0.40      0.50      0.45       244\n",
      "weighted avg       0.65      0.81      0.72       244\n",
      "\n"
     ]
    },
    {
     "name": "stderr",
     "output_type": "stream",
     "text": [
      "/Users/estherlee/opt/anaconda3/lib/python3.9/site-packages/sklearn/metrics/_classification.py:1248: UndefinedMetricWarning: Precision and F-score are ill-defined and being set to 0.0 in labels with no predicted samples. Use `zero_division` parameter to control this behavior.\n",
      "  _warn_prf(average, modifier, msg_start, len(result))\n",
      "/Users/estherlee/opt/anaconda3/lib/python3.9/site-packages/sklearn/metrics/_classification.py:1248: UndefinedMetricWarning: Precision and F-score are ill-defined and being set to 0.0 in labels with no predicted samples. Use `zero_division` parameter to control this behavior.\n",
      "  _warn_prf(average, modifier, msg_start, len(result))\n",
      "/Users/estherlee/opt/anaconda3/lib/python3.9/site-packages/sklearn/metrics/_classification.py:1248: UndefinedMetricWarning: Precision and F-score are ill-defined and being set to 0.0 in labels with no predicted samples. Use `zero_division` parameter to control this behavior.\n",
      "  _warn_prf(average, modifier, msg_start, len(result))\n"
     ]
    }
   ],
   "source": [
    "# instantiating the model\n",
    "logreg = LogisticRegression()\n",
    "\n",
    "# fitting the model\n",
    "logreg.fit(x_train, y_train)\n",
    "\n",
    "# predicting the y variavle\n",
    "y_pred = logreg.predict(x_test)\n",
    "\n",
    "# create confusion matrix and classification report for test data\n",
    "print(confusion_matrix(y_test, y_pred))\n",
    "print(classification_report(y_test, y_pred))\n"
   ]
  }
 ],
 "metadata": {
  "kernelspec": {
   "display_name": "Python 3 (ipykernel)",
   "language": "python",
   "name": "python3"
  },
  "language_info": {
   "codemirror_mode": {
    "name": "ipython",
    "version": 3
   },
   "file_extension": ".py",
   "mimetype": "text/x-python",
   "name": "python",
   "nbconvert_exporter": "python",
   "pygments_lexer": "ipython3",
   "version": "3.9.7"
  },
  "toc": {
   "base_numbering": 1,
   "nav_menu": {},
   "number_sections": true,
   "sideBar": true,
   "skip_h1_title": false,
   "title_cell": "Table of Contents",
   "title_sidebar": "Contents",
   "toc_cell": false,
   "toc_position": {},
   "toc_section_display": true,
   "toc_window_display": false
  },
  "varInspector": {
   "cols": {
    "lenName": 16,
    "lenType": 16,
    "lenVar": 40
   },
   "kernels_config": {
    "python": {
     "delete_cmd_postfix": "",
     "delete_cmd_prefix": "del ",
     "library": "var_list.py",
     "varRefreshCmd": "print(var_dic_list())"
    },
    "r": {
     "delete_cmd_postfix": ") ",
     "delete_cmd_prefix": "rm(",
     "library": "var_list.r",
     "varRefreshCmd": "cat(var_dic_list()) "
    }
   },
   "types_to_exclude": [
    "module",
    "function",
    "builtin_function_or_method",
    "instance",
    "_Feature"
   ],
   "window_display": false
  }
 },
 "nbformat": 4,
 "nbformat_minor": 5
}
